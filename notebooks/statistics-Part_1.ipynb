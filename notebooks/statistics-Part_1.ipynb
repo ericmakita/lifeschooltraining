{
 "cells": [
  {
   "cell_type": "code",
   "execution_count": 32,
   "outputs": [],
   "source": [
    "import pandas as pd\n",
    "pd.set_option('display.max_rows', 500)\n",
    "pd.set_option('display.max_columns', 500)\n",
    "pd.set_option('display.width', 1000)\n",
    "import numpy as np\n",
    "import matplotlib.pyplot as plt\n",
    "from matplotlib.ticker import PercentFormatter\n",
    "from scipy import stats\n",
    "import seaborn as sns\n",
    "pd.options.mode.chained_assignment = None"
   ],
   "metadata": {
    "collapsed": false,
    "pycharm": {
     "name": "#%%\n",
     "is_executing": false
    }
   }
  },
  {
   "cell_type": "markdown",
   "source": [
    "<br><p style=\"font-family: Arial; font-size:3.75em;color:red; font-style:bold\">\n",
    "🚗 🚙 🚘 Sales Data Set</p><br><br>"
   ],
   "metadata": {
    "collapsed": false
   }
  },
  {
   "cell_type": "markdown",
   "source": [
    "For this Jupyter Notebook, we will be using  car dataset dataset from Kaggle. For more details about the dataset, \n",
    "please click on the link below:\n",
    "- https://www.kaggle.com/gagandeep16/car-sales"
   ],
   "metadata": {
    "collapsed": false
   }
  },
  {
   "cell_type": "code",
   "execution_count": 33,
   "outputs": [],
   "source": [
    "# Load the dataset into the variable data\n",
    "data = pd.read_csv(\"../data/raw/car/cars.csv\")"
   ],
   "metadata": {
    "collapsed": false,
    "pycharm": {
     "name": "#%%\n",
     "is_executing": false
    }
   }
  },
  {
   "cell_type": "code",
   "execution_count": 34,
   "outputs": [
    {
     "data": {
      "text/plain": "    Manufacturer              Model  Sales in thousands 4-year resale value Vehicle type Price in thousands Engine size Horsepower Wheelbase Width Length Curb weight Fuel capacity Fuel efficiency Latest Launch\n0  Acura          Integra                        16.919               16.36    Passenger               21.5         1.8        140     101.2  67.3  172.4       2.639          13.2              28      2-Feb-14\n1  Acura          TL                             39.384              19.875    Passenger               28.4         3.2        225     108.1  70.3  192.9       3.517          17.2              25      6-Mar-15\n2  Acura          CL                             14.114              18.225    Passenger                  .         3.2        225     106.9  70.6    192        3.47          17.2              26      1-Apr-14\n3  Acura          RL                              8.588              29.725    Passenger                 42         3.5        210     114.6  71.4  196.6        3.85            18              22      3-Oct-15\n4  Audi           A4                             20.397              22.255    Passenger              23.99         1.8        150     102.6  68.2    178       2.998          16.4              27     10-Aug-15",
      "text/html": "<div>\n<style scoped>\n    .dataframe tbody tr th:only-of-type {\n        vertical-align: middle;\n    }\n\n    .dataframe tbody tr th {\n        vertical-align: top;\n    }\n\n    .dataframe thead th {\n        text-align: right;\n    }\n</style>\n<table border=\"1\" class=\"dataframe\">\n  <thead>\n    <tr style=\"text-align: right;\">\n      <th></th>\n      <th>Manufacturer</th>\n      <th>Model</th>\n      <th>Sales in thousands</th>\n      <th>4-year resale value</th>\n      <th>Vehicle type</th>\n      <th>Price in thousands</th>\n      <th>Engine size</th>\n      <th>Horsepower</th>\n      <th>Wheelbase</th>\n      <th>Width</th>\n      <th>Length</th>\n      <th>Curb weight</th>\n      <th>Fuel capacity</th>\n      <th>Fuel efficiency</th>\n      <th>Latest Launch</th>\n    </tr>\n  </thead>\n  <tbody>\n    <tr>\n      <th>0</th>\n      <td>Acura</td>\n      <td>Integra</td>\n      <td>16.919</td>\n      <td>16.36</td>\n      <td>Passenger</td>\n      <td>21.5</td>\n      <td>1.8</td>\n      <td>140</td>\n      <td>101.2</td>\n      <td>67.3</td>\n      <td>172.4</td>\n      <td>2.639</td>\n      <td>13.2</td>\n      <td>28</td>\n      <td>2-Feb-14</td>\n    </tr>\n    <tr>\n      <th>1</th>\n      <td>Acura</td>\n      <td>TL</td>\n      <td>39.384</td>\n      <td>19.875</td>\n      <td>Passenger</td>\n      <td>28.4</td>\n      <td>3.2</td>\n      <td>225</td>\n      <td>108.1</td>\n      <td>70.3</td>\n      <td>192.9</td>\n      <td>3.517</td>\n      <td>17.2</td>\n      <td>25</td>\n      <td>6-Mar-15</td>\n    </tr>\n    <tr>\n      <th>2</th>\n      <td>Acura</td>\n      <td>CL</td>\n      <td>14.114</td>\n      <td>18.225</td>\n      <td>Passenger</td>\n      <td>.</td>\n      <td>3.2</td>\n      <td>225</td>\n      <td>106.9</td>\n      <td>70.6</td>\n      <td>192</td>\n      <td>3.47</td>\n      <td>17.2</td>\n      <td>26</td>\n      <td>1-Apr-14</td>\n    </tr>\n    <tr>\n      <th>3</th>\n      <td>Acura</td>\n      <td>RL</td>\n      <td>8.588</td>\n      <td>29.725</td>\n      <td>Passenger</td>\n      <td>42</td>\n      <td>3.5</td>\n      <td>210</td>\n      <td>114.6</td>\n      <td>71.4</td>\n      <td>196.6</td>\n      <td>3.85</td>\n      <td>18</td>\n      <td>22</td>\n      <td>3-Oct-15</td>\n    </tr>\n    <tr>\n      <th>4</th>\n      <td>Audi</td>\n      <td>A4</td>\n      <td>20.397</td>\n      <td>22.255</td>\n      <td>Passenger</td>\n      <td>23.99</td>\n      <td>1.8</td>\n      <td>150</td>\n      <td>102.6</td>\n      <td>68.2</td>\n      <td>178</td>\n      <td>2.998</td>\n      <td>16.4</td>\n      <td>27</td>\n      <td>10-Aug-15</td>\n    </tr>\n  </tbody>\n</table>\n</div>"
     },
     "metadata": {},
     "output_type": "execute_result",
     "execution_count": 34
    }
   ],
   "source": [
    "# Inspect the dataset\n",
    "data.head()"
   ],
   "metadata": {
    "collapsed": false,
    "pycharm": {
     "name": "#%%\n",
     "is_executing": false
    }
   }
  },
  {
   "cell_type": "markdown",
   "source": [
    "<br><p style=\"font-family: Arial; font-size:3.75em;color:red; font-style:bold\">\n",
    "Data Visualization: One Variable</p><br><br>\n",
    "    In the following, we will talk about graphs representing only one variable,\n",
    "therefore we will chose only one column representing categorical variable and one column representing numerical variable.\n",
    " The columns are the following:\n",
    "    \n",
    "- Categorical variable :  Manufacturer\n",
    "- Numerical variable   : Sales in thousands"
   ],
   "metadata": {
    "collapsed": false
   }
  },
  {
   "cell_type": "markdown",
   "source": [
    "<br><p style=\"font-family: Arial; font-size:3.75em;color:blue; font-style:bold\">\n",
    "1 - Categorical Variable </p><br><br>"
   ],
   "metadata": {
    "collapsed": false
   }
  },
  {
   "cell_type": "code",
   "execution_count": 35,
   "outputs": [
    {
     "data": {
      "text/plain": "30"
     },
     "metadata": {},
     "output_type": "execute_result",
     "execution_count": 35
    }
   ],
   "source": [
    "# How many brands do we have in our dataset ?\n",
    "brands = data['Manufacturer'].unique().tolist()\n",
    "len(brands)"
   ],
   "metadata": {
    "collapsed": false,
    "pycharm": {
     "name": "#%%\n",
     "is_executing": false
    }
   }
  },
  {
   "cell_type": "markdown",
   "source": [
    "<br><p style=\"font-family: Arial; font-size:3.75em;color:blue; font-style:bold\">\n",
    "A - Frequency Distribution Table </p><br><br>\n",
    "\n"
   ],
   "metadata": {
    "collapsed": false
   }
  },
  {
   "cell_type": "code",
   "execution_count": 36,
   "outputs": [
    {
     "data": {
      "text/plain": "Ford             11\nDodge            11\nChevrolet         9\nToyota            9\nMercedes-Benz     9\nMitsubishi        7\nChrysler          7\nNissan            7\nLexus             6\nVolkswagen        6\nOldsmobile        6\nPontiac           6\nVolvo             6\nMercury           6\nCadillac          5\nSaturn            5\nHonda             5\nPlymouth          4\nBuick             4\nAcura             4\nHyundai           3\nPorsche           3\nBMW               3\nLincoln           3\nAudi              3\nJeep              3\nSaab              2\nSubaru            2\nInfiniti          1\nJaguar            1\nName: Manufacturer, dtype: int64"
     },
     "metadata": {},
     "output_type": "execute_result",
     "execution_count": 36
    }
   ],
   "source": [
    "data['Manufacturer'].value_counts()"
   ],
   "metadata": {
    "collapsed": false,
    "pycharm": {
     "name": "#%%\n",
     "is_executing": false
    }
   }
  },
  {
   "cell_type": "markdown",
   "source": [
    "### The above output shows the number of units sold by brand."
   ],
   "metadata": {
    "collapsed": false
   }
  },
  {
   "cell_type": "markdown",
   "source": [
    "### For the ease of our analysis, we will consider only brand 🚙 🚗 🚘  that were sold out more than 6 times"
   ],
   "metadata": {
    "collapsed": false
   }
  },
  {
   "cell_type": "code",
   "execution_count": 37,
   "outputs": [],
   "source": [
    "df = data[data['Manufacturer'].map(data['Manufacturer'].value_counts()) > 6]"
   ],
   "metadata": {
    "collapsed": false,
    "pycharm": {
     "name": "#%%\n",
     "is_executing": false
    }
   }
  },
  {
   "cell_type": "code",
   "execution_count": 38,
   "outputs": [
    {
     "data": {
      "text/plain": "8"
     },
     "metadata": {},
     "output_type": "execute_result",
     "execution_count": 38
    }
   ],
   "source": [
    "# How many brands do we have now?\n",
    "len(df['Manufacturer'].unique().tolist())"
   ],
   "metadata": {
    "collapsed": false,
    "pycharm": {
     "name": "#%%\n",
     "is_executing": false
    }
   }
  },
  {
   "cell_type": "markdown",
   "source": [
    "<br><p style=\"font-family: Arial; font-size:3.75em;color:blue; font-style:bold\">\n",
    "B - Bar Chart </p><br><br>"
   ],
   "metadata": {
    "collapsed": false
   }
  },
  {
   "cell_type": "code",
   "execution_count": 39,
   "outputs": [
    {
     "data": {
      "text/plain": "<Figure size 864x576 with 1 Axes>",
      "image/png": "[encoded data removed]"
     },
     "metadata": {
      "needs_background": "light"
     },
     "output_type": "display_data"
    }
   ],
   "source": [
    "plt.figure(figsize=(12, 8))\n",
    "ax = df['Manufacturer'].value_counts().plot(kind='bar')\n",
    "ax.set_title('Car Sales')\n",
    "ax.set_xlabel('Car Brands')\n",
    "ax.set_ylabel('Frequency');"
   ],
   "metadata": {
    "collapsed": false,
    "pycharm": {
     "name": "#%%\n",
     "is_executing": false
    }
   }
  },
  {
   "cell_type": "markdown",
   "source": [
    "#### Observation: From the above graph, we can clearly see that Ford and Dodge are the most selling brands."
   ],
   "metadata": {
    "collapsed": false
   }
  },
  {
   "cell_type": "markdown",
   "source": [
    "<br><p style=\"font-family: Arial; font-size:3.75em;color:blue; font-style:bold\">\n",
    "C - Pie Chart </p><br><br>\n",
    "Let us represent the same data as market share by using the Pie chart. Here, the goal will not only to compare car brands among each other but also see their chare of the total."
   ],
   "metadata": {
    "collapsed": false
   }
  },
  {
   "cell_type": "code",
   "execution_count": 40,
   "outputs": [],
   "source": [
    "total_sale_by_brand = df.groupby('Manufacturer',as_index=False)['Sales in thousands'].agg('sum')"
   ],
   "metadata": {
    "collapsed": false,
    "pycharm": {
     "name": "#%%\n",
     "is_executing": false
    }
   }
  },
  {
   "cell_type": "code",
   "execution_count": 41,
   "outputs": [
    {
     "data": {
      "text/plain": "<Figure size 432x288 with 1 Axes>",
      "image/png": "[encoded data removed]"
     },
     "metadata": {},
     "output_type": "display_data"
    }
   ],
   "source": [
    "# Create a list of colors to use in the graph\n",
    "colors = [\"#fffd05\", \"#08f5ee\", \"#35f508\", \"#056cff\", \"#ff052c\", \"#f5efeb\", \"#ff1fcb\", \"#05fab0\"]\n",
    "\n",
    "# Create a pie chart\n",
    "plt.pie(\n",
    "    # using data Sales in thousands\n",
    "    total_sale_by_brand['Sales in thousands'],\n",
    "    # with the labels being Manufacturer\n",
    "    labels=total_sale_by_brand['Manufacturer'],\n",
    "    # with no shadows\n",
    "    shadow=False,\n",
    "    # with colors\n",
    "    colors=colors,\n",
    "    # with one slide exploded out\n",
    "    explode=(0, 0, 0, 0, 0, 0, 0, 0.15),\n",
    "    # with the start angle at 90%\n",
    "    startangle=90,\n",
    "    # with the percent listed as a fraction\n",
    "    autopct='%1.1f%%',\n",
    "    )\n",
    "\n",
    "# View the plot drop above\n",
    "plt.axis('equal')\n",
    "\n",
    "# View the plot\n",
    "plt.tight_layout()\n",
    "plt.show()"
   ],
   "metadata": {
    "collapsed": false,
    "pycharm": {
     "name": "#%%\n",
     "is_executing": false
    }
   }
  },
  {
   "cell_type": "markdown",
   "source": [
    "<br><p style=\"font-family: Arial; font-size:3.75em;color:blue; font-style:bold\">\n",
    "D - Pareto Diagram </p><br><br>\n",
    "A Pareto diagram is a special type of bar chart, where categories are shown in descending order of frequency.\n",
    "- Frequency means here the number of occurrence of each brand car"
   ],
   "metadata": {
    "collapsed": false
   }
  },
  {
   "cell_type": "code",
   "execution_count": 42,
   "outputs": [],
   "source": [
    "total_sale_by_brand.set_index('Manufacturer', inplace=True)"
   ],
   "metadata": {
    "collapsed": false,
    "pycharm": {
     "name": "#%%\n",
     "is_executing": false
    }
   }
  },
  {
   "cell_type": "code",
   "execution_count": 43,
   "outputs": [
    {
     "data": {
      "text/plain": "<Figure size 1440x720 with 2 Axes>",
      "image/png": "[encoded data removed]"
     },
     "metadata": {},
     "output_type": "display_data"
    }
   ],
   "source": [
    "new_df = total_sale_by_brand.sort_values(by='Sales in thousands',ascending=False)\n",
    "new_df[\"cumpercentage\"] = new_df[\"Sales in thousands\"].cumsum()/new_df[\"Sales in thousands\"].sum()*100\n",
    "\n",
    "\n",
    "fig, ax = plt.subplots(figsize=(20, 10))\n",
    "ax.bar(new_df.index, new_df[\"Sales in thousands\"], color=\"C0\")\n",
    "ax2 = ax.twinx()\n",
    "ax2.plot(new_df.index, new_df[\"cumpercentage\"], color=\"C1\", marker=\"D\", ms=7)\n",
    "ax2.yaxis.set_major_formatter(PercentFormatter())\n",
    "\n",
    "ax.tick_params(axis=\"y\", colors=\"C0\")\n",
    "ax2.tick_params(axis=\"y\", colors=\"C1\")\n",
    "ax.set_title('Car Sales')\n",
    "ax.set_xlabel('Car Brands')\n",
    "ax.set_ylabel('Sales in thousands')\n",
    "plt.show()"
   ],
   "metadata": {
    "collapsed": false,
    "pycharm": {
     "name": "#%%\n",
     "is_executing": false
    }
   }
  },
  {
   "cell_type": "markdown",
   "source": [
    "The organge graph is showing here the cumulative frequency which represents the sum of the relative frequencies. For instance. From the Pie chart, we have the following relative frequency per brand:\n",
    "\n",
    "- Ford          : 39.5%\n",
    "- Dodge         : 17.8%\n",
    "- Toyota        : 14.4%\n",
    "- Chevrolet.    : 10.8%\n",
    "- Nissan.       : 7.8%\n",
    "- Chrysler      : 3.9%\n",
    "- Mitsubishi.   : 3.5%\n",
    "- Mercedes-Benz : 17.8%\n",
    "\n",
    "The Pareto diagram combines the strong sides of the bar and pie charts. Here we can see that Ford and Dodge more than 50% of the market share. "
   ],
   "metadata": {
    "collapsed": false
   }
  },
  {
   "cell_type": "markdown",
   "source": [
    "<br><p style=\"font-family: Arial; font-size:3.75em;color:blue; font-style:bold\">\n",
    "2 - Numerical Variable </p><br><br>"
   ],
   "metadata": {
    "collapsed": false
   }
  },
  {
   "cell_type": "markdown",
   "source": [
    "As for categoricak variable data visualization, we chose a column in our data which will represent the numerical data we are going to work with: Sales in thousand."
   ],
   "metadata": {
    "collapsed": false
   }
  },
  {
   "cell_type": "markdown",
   "source": [
    "<br><p style=\"font-family: Arial; font-size:3.75em;color:blue; font-style:bold\">\n",
    "2.1 - Histogram  </p><br><br>"
   ],
   "metadata": {
    "collapsed": false
   }
  },
  {
   "cell_type": "markdown",
   "source": [
    "The Histogram is the most common graph used to represent numerical data. The graph below shos a frequency histogram of Sale in thousand whereas the vertical axis shows the actual values of each sales in thousand in our dataset. "
   ],
   "metadata": {
    "collapsed": false
   }
  },
  {
   "cell_type": "code",
   "execution_count": 44,
   "outputs": [
    {
     "data": {
      "text/plain": "<Figure size 432x288 with 1 Axes>",
      "image/png": "[encoded data removed]"
     },
     "metadata": {
      "needs_background": "light"
     },
     "output_type": "display_data"
    }
   ],
   "source": [
    "df['Sales in thousands'].hist(edgecolor='black', bins=20)\n",
    "plt.title('Frequency Histogram ')\n",
    "plt.xlabel('Sales in thousands')\n",
    "plt.ylabel('Frequency ');"
   ],
   "metadata": {
    "collapsed": false,
    "pycharm": {
     "name": "#%%\n",
     "is_executing": false
    }
   }
  },
  {
   "cell_type": "markdown",
   "source": [
    "- NB: Sometimes it's useful to plot the intervals against the relative rather than the absolute frequency in order to compare each individual values to the overall totall of all sales concerned in our dataset."
   ],
   "metadata": {
    "collapsed": false
   }
  },
  {
   "cell_type": "code",
   "execution_count": 45,
   "outputs": [
    {
     "data": {
      "text/plain": "<Figure size 360x288 with 1 Axes>",
      "image/png": "[encoded data removed]"
     },
     "metadata": {
      "needs_background": "light"
     },
     "output_type": "display_data"
    }
   ],
   "source": [
    "res = stats.relfreq(df['Sales in thousands'], numbins=20)\n",
    "x = res.lowerlimit + np.linspace(0, res.binsize*res.frequency.size,res.frequency.size)\n",
    "fig = plt.figure(figsize=(5, 4))\n",
    "ax = fig.add_subplot(1, 1, 1)\n",
    "ax.bar(x, res.frequency, width=res.binsize)\n",
    "ax.set_title('Relative frequency histogram', size=20)\n",
    "ax.set_xlabel('Sales in thousands', size=20)\n",
    "ax.set_ylabel('Frequency', size=20)\n",
    "ax.set_xlim([x.min(), x.max()])\n",
    "plt.show();\n"
   ],
   "metadata": {
    "collapsed": false,
    "pycharm": {
     "name": "#%%\n",
     "is_executing": false
    }
   }
  },
  {
   "cell_type": "markdown",
   "source": [
    "# Difference between relative frequency and frequency histogram:\n",
    "\n",
    "Visually both types of histogram look the same but in fact, they give different information. In frequency histogram, each bar height corresponds to the frequency between the upper and lower bounds whereas in the relative frequency instead, each bar height corresponds to percentage of cases that are between the upper and lower bounds of the bar. \n",
    "For instance, if $N$ is the totale number of cases and $n$ is a frequency or absolute value, the relative frequency for a specific case $n$ will be computed as follow:  \n",
    "\n",
    "$$\\%n=\\frac{n}{N}*100$$\n",
    "\n",
    "The takeaway lesson here is that in frequency histogram, the y-axis is made up on frequencies or absolute values and in relative frequency instead, the y-axis is made on percentage representing the comparison of values to the overall total of all data point in our datset."
   ],
   "metadata": {
    "collapsed": false
   }
  },
  {
   "cell_type": "markdown",
   "source": [
    "# Difference between bar chart and histogram:\n",
    "\n",
    "It is also a good idea to differentiate a bar chart from an histogram. \n",
    "### 1- a bar chart is used to visualized categorical variables and the histogram is used to visualized numerical variables.\n",
    "### 2- In the bar chart 📊, the x and y axes have different variable types: the y-axis has numerical data and x-axis has categorical data\n",
    "### 3- In the histogram, both axes have numerical data."
   ],
   "metadata": {
    "collapsed": false
   }
  },
  {
   "cell_type": "markdown",
   "source": [
    "<br><p style=\"font-family: Arial; font-size:3.75em;color:green; font-style:bold\">\n",
    "3 - Data Visualization: Two Variables</p><br><br>\n",
    "In this part, we will be dealing with relationship between two variables. For that purpose, we will use different approach for categorical and numerical variables:\n",
    "\n",
    "- For categorical variable, we will use the CROSS TABLES\n",
    "- For numerical variable, we will use the SCATTER PLOTS."
   ],
   "metadata": {
    "collapsed": false
   }
  },
  {
   "cell_type": "code",
   "execution_count": 46,
   "outputs": [
    {
     "data": {
      "text/plain": "     Manufacturer              Model  Sales in thousands 4-year resale value Vehicle type Price in thousands Engine size Horsepower Wheelbase Width Length Curb weight Fuel capacity Fuel efficiency Latest Launch\n19  Chevrolet      Cavalier                      145.519                9.25    Passenger              13.26         2.2        115     104.1  67.9  180.9       2.676          14.3              27     17-Aug-15\n20  Chevrolet      Malibu                        135.126              11.225    Passenger             16.535         3.1        170       107  69.4  190.4       3.051            15              25     19-Mar-14\n21  Chevrolet      Lumina                         24.629               10.31    Passenger              18.89         3.1        175     107.5  72.5  200.9        3.33          16.6              25     24-May-15\n22  Chevrolet      Monte Carlo                    42.593              11.525    Passenger              19.39         3.4        180     110.5  72.7  197.9        3.34            17              27     22-Dec-15\n23  Chevrolet      Camaro                         26.402              13.025    Passenger              24.34         3.8        200     101.1  74.1  193.2         3.5          16.8              25     23-Oct-15",
      "text/html": "<div>\n<style scoped>\n    .dataframe tbody tr th:only-of-type {\n        vertical-align: middle;\n    }\n\n    .dataframe tbody tr th {\n        vertical-align: top;\n    }\n\n    .dataframe thead th {\n        text-align: right;\n    }\n</style>\n<table border=\"1\" class=\"dataframe\">\n  <thead>\n    <tr style=\"text-align: right;\">\n      <th></th>\n      <th>Manufacturer</th>\n      <th>Model</th>\n      <th>Sales in thousands</th>\n      <th>4-year resale value</th>\n      <th>Vehicle type</th>\n      <th>Price in thousands</th>\n      <th>Engine size</th>\n      <th>Horsepower</th>\n      <th>Wheelbase</th>\n      <th>Width</th>\n      <th>Length</th>\n      <th>Curb weight</th>\n      <th>Fuel capacity</th>\n      <th>Fuel efficiency</th>\n      <th>Latest Launch</th>\n    </tr>\n  </thead>\n  <tbody>\n    <tr>\n      <th>19</th>\n      <td>Chevrolet</td>\n      <td>Cavalier</td>\n      <td>145.519</td>\n      <td>9.25</td>\n      <td>Passenger</td>\n      <td>13.26</td>\n      <td>2.2</td>\n      <td>115</td>\n      <td>104.1</td>\n      <td>67.9</td>\n      <td>180.9</td>\n      <td>2.676</td>\n      <td>14.3</td>\n      <td>27</td>\n      <td>17-Aug-15</td>\n    </tr>\n    <tr>\n      <th>20</th>\n      <td>Chevrolet</td>\n      <td>Malibu</td>\n      <td>135.126</td>\n      <td>11.225</td>\n      <td>Passenger</td>\n      <td>16.535</td>\n      <td>3.1</td>\n      <td>170</td>\n      <td>107</td>\n      <td>69.4</td>\n      <td>190.4</td>\n      <td>3.051</td>\n      <td>15</td>\n      <td>25</td>\n      <td>19-Mar-14</td>\n    </tr>\n    <tr>\n      <th>21</th>\n      <td>Chevrolet</td>\n      <td>Lumina</td>\n      <td>24.629</td>\n      <td>10.31</td>\n      <td>Passenger</td>\n      <td>18.89</td>\n      <td>3.1</td>\n      <td>175</td>\n      <td>107.5</td>\n      <td>72.5</td>\n      <td>200.9</td>\n      <td>3.33</td>\n      <td>16.6</td>\n      <td>25</td>\n      <td>24-May-15</td>\n    </tr>\n    <tr>\n      <th>22</th>\n      <td>Chevrolet</td>\n      <td>Monte Carlo</td>\n      <td>42.593</td>\n      <td>11.525</td>\n      <td>Passenger</td>\n      <td>19.39</td>\n      <td>3.4</td>\n      <td>180</td>\n      <td>110.5</td>\n      <td>72.7</td>\n      <td>197.9</td>\n      <td>3.34</td>\n      <td>17</td>\n      <td>27</td>\n      <td>22-Dec-15</td>\n    </tr>\n    <tr>\n      <th>23</th>\n      <td>Chevrolet</td>\n      <td>Camaro</td>\n      <td>26.402</td>\n      <td>13.025</td>\n      <td>Passenger</td>\n      <td>24.34</td>\n      <td>3.8</td>\n      <td>200</td>\n      <td>101.1</td>\n      <td>74.1</td>\n      <td>193.2</td>\n      <td>3.5</td>\n      <td>16.8</td>\n      <td>25</td>\n      <td>23-Oct-15</td>\n    </tr>\n  </tbody>\n</table>\n</div>"
     },
     "metadata": {},
     "output_type": "execute_result",
     "execution_count": 46
    }
   ],
   "source": [
    "df.head()"
   ],
   "metadata": {
    "collapsed": false,
    "pycharm": {
     "name": "#%%\n",
     "is_executing": false
    }
   }
  },
  {
   "cell_type": "markdown",
   "source": [
    "<br><p style=\"font-family: Arial; font-size:3.75em;color:green; font-style:bold\">\n",
    "3.1 Cross-Table</p><br><br>\n",
    "\n",
    "For our cross table, we will use the columns Vehicle type as rownames and Manufacturer as colnames."
   ],
   "metadata": {
    "collapsed": false
   }
  },
  {
   "cell_type": "code",
   "execution_count": 47,
   "outputs": [],
   "source": [
    "cross_table =pd.crosstab(df['Vehicle type'],\n",
    "            df['Manufacturer'], \n",
    "           margins=True,\n",
    "           margins_name=\"Total\")"
   ],
   "metadata": {
    "collapsed": false,
    "pycharm": {
     "name": "#%%\n",
     "is_executing": false
    }
   }
  },
  {
   "cell_type": "code",
   "execution_count": 48,
   "outputs": [
    {
     "data": {
      "text/plain": "Manufacturer  Chevrolet      Chrysler       Dodge          Ford           Mercedes-Benz  Mitsubishi     Nissan         Toyota         Total\nVehicle type                                                                                                                               \nCar                       0              1              6              5              1              2              4              5     24\nPassenger                 9              6              5              6              8              5              3              4     46\nTotal                     9              7             11             11              9              7              7              9     70",
      "text/html": "<div>\n<style scoped>\n    .dataframe tbody tr th:only-of-type {\n        vertical-align: middle;\n    }\n\n    .dataframe tbody tr th {\n        vertical-align: top;\n    }\n\n    .dataframe thead th {\n        text-align: right;\n    }\n</style>\n<table border=\"1\" class=\"dataframe\">\n  <thead>\n    <tr style=\"text-align: right;\">\n      <th>Manufacturer</th>\n      <th>Chevrolet</th>\n      <th>Chrysler</th>\n      <th>Dodge</th>\n      <th>Ford</th>\n      <th>Mercedes-Benz</th>\n      <th>Mitsubishi</th>\n      <th>Nissan</th>\n      <th>Toyota</th>\n      <th>Total</th>\n    </tr>\n    <tr>\n      <th>Vehicle type</th>\n      <th></th>\n      <th></th>\n      <th></th>\n      <th></th>\n      <th></th>\n      <th></th>\n      <th></th>\n      <th></th>\n      <th></th>\n    </tr>\n  </thead>\n  <tbody>\n    <tr>\n      <th>Car</th>\n      <td>0</td>\n      <td>1</td>\n      <td>6</td>\n      <td>5</td>\n      <td>1</td>\n      <td>2</td>\n      <td>4</td>\n      <td>5</td>\n      <td>24</td>\n    </tr>\n    <tr>\n      <th>Passenger</th>\n      <td>9</td>\n      <td>6</td>\n      <td>5</td>\n      <td>6</td>\n      <td>8</td>\n      <td>5</td>\n      <td>3</td>\n      <td>4</td>\n      <td>46</td>\n    </tr>\n    <tr>\n      <th>Total</th>\n      <td>9</td>\n      <td>7</td>\n      <td>11</td>\n      <td>11</td>\n      <td>9</td>\n      <td>7</td>\n      <td>7</td>\n      <td>9</td>\n      <td>70</td>\n    </tr>\n  </tbody>\n</table>\n</div>"
     },
     "metadata": {},
     "output_type": "execute_result",
     "execution_count": 48
    }
   ],
   "source": [
    "cross_table"
   ],
   "metadata": {
    "collapsed": false,
    "pycharm": {
     "name": "#%%\n",
     "is_executing": false
    }
   }
  },
  {
   "cell_type": "code",
   "execution_count": 49,
   "outputs": [],
   "source": [
    "ct =pd.crosstab(df['Vehicle type'],\n",
    "            df['Manufacturer'])"
   ],
   "metadata": {
    "collapsed": false,
    "pycharm": {
     "name": "#%%\n",
     "is_executing": false
    }
   }
  },
  {
   "cell_type": "code",
   "execution_count": 50,
   "outputs": [
    {
     "data": {
      "text/plain": "<Figure size 432x288 with 1 Axes>",
      "image/png": "[encoded data removed]"
     },
     "metadata": {
      "needs_background": "light"
     },
     "output_type": "display_data"
    }
   ],
   "source": [
    "ct.plot.bar(stacked=False)\n",
    "plt.legend(title='Type')\n",
    "\n",
    "plt.show();"
   ],
   "metadata": {
    "collapsed": false,
    "pycharm": {
     "name": "#%%\n",
     "is_executing": false
    }
   }
  },
  {
   "cell_type": "markdown",
   "source": [
    "As we can see from the above cross_table dataframe, we have two types of vehicles:\n",
    "\n",
    "- Car (🚘) \n",
    "- Passenger (🚙)\n",
    "\n",
    "From the above the table, in the rows we have two distinct cars' type, and in the columns we each car brand. We included also the Total for each row and columns as it can be useful for further analysis.\n",
    "\n",
    "NB: Subtotals of the rows give the total number of each vehicle type. On the other hands, the subtotals on the columns give us the total number of vehicles for each brand."
   ],
   "metadata": {
    "collapsed": false
   }
  },
  {
   "cell_type": "markdown",
   "source": [
    "# Average Sales in thousands per vehicle type for each car brand"
   ],
   "metadata": {
    "collapsed": false
   }
  },
  {
   "cell_type": "code",
   "execution_count": 51,
   "outputs": [
    {
     "data": {
      "text/plain": "Manufacturer  Chevrolet      Chrysler       Dodge          Ford           Mercedes-Benz  Mitsubishi     Nissan         Toyota       \nVehicle type                                                                                                                        \nCar                     NaN      53.480000     111.541833     263.816600      28.976000        25.3425      47.261250       50.51160\nPassenger         61.596111      24.706833      48.179600     117.258667      11.018625        26.0420      70.196667      121.91175",
      "text/html": "<div>\n<style scoped>\n    .dataframe tbody tr th:only-of-type {\n        vertical-align: middle;\n    }\n\n    .dataframe tbody tr th {\n        vertical-align: top;\n    }\n\n    .dataframe thead th {\n        text-align: right;\n    }\n</style>\n<table border=\"1\" class=\"dataframe\">\n  <thead>\n    <tr style=\"text-align: right;\">\n      <th>Manufacturer</th>\n      <th>Chevrolet</th>\n      <th>Chrysler</th>\n      <th>Dodge</th>\n      <th>Ford</th>\n      <th>Mercedes-Benz</th>\n      <th>Mitsubishi</th>\n      <th>Nissan</th>\n      <th>Toyota</th>\n    </tr>\n    <tr>\n      <th>Vehicle type</th>\n      <th></th>\n      <th></th>\n      <th></th>\n      <th></th>\n      <th></th>\n      <th></th>\n      <th></th>\n      <th></th>\n    </tr>\n  </thead>\n  <tbody>\n    <tr>\n      <th>Car</th>\n      <td>NaN</td>\n      <td>53.480000</td>\n      <td>111.541833</td>\n      <td>263.816600</td>\n      <td>28.976000</td>\n      <td>25.3425</td>\n      <td>47.261250</td>\n      <td>50.51160</td>\n    </tr>\n    <tr>\n      <th>Passenger</th>\n      <td>61.596111</td>\n      <td>24.706833</td>\n      <td>48.179600</td>\n      <td>117.258667</td>\n      <td>11.018625</td>\n      <td>26.0420</td>\n      <td>70.196667</td>\n      <td>121.91175</td>\n    </tr>\n  </tbody>\n</table>\n</div>"
     },
     "metadata": {},
     "output_type": "execute_result",
     "execution_count": 51
    }
   ],
   "source": [
    "pd.crosstab(df['Vehicle type'],\n",
    "            df['Manufacturer'], \n",
    "           values=df['Sales in thousands'],\n",
    "           aggfunc=np.average,\n",
    "           dropna=True)"
   ],
   "metadata": {
    "collapsed": false,
    "pycharm": {
     "name": "#%%\n",
     "is_executing": false
    }
   }
  },
  {
   "cell_type": "markdown",
   "source": [
    "What we are observing from the above outputs, Ford is the brand with the highest Sales on average for the Car vehicle type while for Passenger vehicle type, the best seller on average is Toyota and Ford comming on the second place. From this output many information can be driven ..."
   ],
   "metadata": {
    "collapsed": false
   }
  },
  {
   "cell_type": "markdown",
   "source": [
    "<br><p style=\"font-family: Arial; font-size:3.75em;color:green; font-style:bold\">\n",
    "3.2 Side-by-side bar chart</p><br><br>\n",
    "It represents the number of vehicles of each car brand for each vehicle type."
   ],
   "metadata": {
    "collapsed": false
   }
  },
  {
   "cell_type": "code",
   "execution_count": 52,
   "outputs": [],
   "source": [
    "c_table =pd.crosstab(df['Vehicle type'],\n",
    "            df['Manufacturer'])"
   ],
   "metadata": {
    "collapsed": false,
    "pycharm": {
     "name": "#%%\n",
     "is_executing": false
    }
   }
  },
  {
   "cell_type": "code",
   "execution_count": 53,
   "outputs": [
    {
     "data": {
      "text/plain": "<Figure size 864x576 with 1 Axes>",
      "image/png": "[encoded data removed]"
     },
     "metadata": {
      "needs_background": "light"
     },
     "output_type": "display_data"
    }
   ],
   "source": [
    "plt.figure(figsize=(12, 8))\n",
    "stacked = c_table.stack().reset_index().rename(columns={0:'Vehicles'})\n",
    "sns.barplot(x=stacked.Manufacturer, y=stacked.Vehicles, hue=stacked['Vehicle type']);"
   ],
   "metadata": {
    "collapsed": false,
    "pycharm": {
     "name": "#%%\n",
     "is_executing": false
    }
   }
  },
  {
   "cell_type": "markdown",
   "source": [
    "From this above graph, we can quicly compares vehickle type for each car brand or amaong cars' brand.\n",
    "\n",
    "Takeaway lesson: All graphs are very easy to create and read, once we have identified the type of data we are dealing with."
   ],
   "metadata": {
    "collapsed": false
   }
  },
  {
   "cell_type": "markdown",
   "source": [
    "<br><p style=\"font-family: Arial; font-size:3.75em;color:green; font-style:bold\">\n",
    "3.3 Scatter Plot</p><br><br>\n",
    "\n",
    "It is used when we are representing two numerical variables"
   ],
   "metadata": {
    "collapsed": false
   }
  },
  {
   "cell_type": "code",
   "execution_count": 54,
   "outputs": [],
   "source": [
    "df = data[data['Manufacturer'].map(data['Manufacturer'].value_counts()) > 6]"
   ],
   "metadata": {
    "collapsed": false,
    "pycharm": {
     "name": "#%%\n",
     "is_executing": false
    }
   }
  },
  {
   "cell_type": "code",
   "execution_count": 55,
   "outputs": [],
   "source": [
    "#replacing blank * with ''\n",
    "df.columns =[column.replace(\" \", \"_\") for column in df.columns]"
   ],
   "metadata": {
    "collapsed": false,
    "pycharm": {
     "name": "#%%\n",
     "is_executing": false
    }
   }
  },
  {
   "cell_type": "code",
   "execution_count": 56,
   "outputs": [],
   "source": [
    "# 1- Reset the index and avoid the old index being added as a column\n",
    "df = df.reset_index(drop=True)"
   ],
   "metadata": {
    "collapsed": false,
    "pycharm": {
     "name": "#%%\n",
     "is_executing": false
    }
   }
  },
  {
   "cell_type": "markdown",
   "source": [
    "In the row 141, we can see that the value of the column '4-year resale value' is equals to '.' therefore we can't directly cast the column to float otherwise we will get errors ...\n",
    "\n",
    "In order to clean up our dataset, we will use the following steps:\n",
    "\n",
    "- 1 : Reset the index\n",
    "- 2 : Get the list of rows xhixh have . as value in 4-year resale value column\n",
    "- 3 : Replace . by 0 into those rows\n",
    "- 4 : Cast columns into int or float for those one that have object as dttypes"
   ],
   "metadata": {
    "collapsed": false
   }
  },
  {
   "cell_type": "code",
   "execution_count": 57,
   "outputs": [],
   "source": [
    "t = df[[\"4-year_resale_value\", \"Price_in_thousands\"]]"
   ],
   "metadata": {
    "collapsed": false,
    "pycharm": {
     "name": "#%%\n",
     "is_executing": false
    }
   }
  },
  {
   "cell_type": "code",
   "execution_count": 58,
   "outputs": [
    {
     "data": {
      "text/plain": "   4-year_resale_value  Price_in_thousands\n0                9.250              13.260\n1               11.225              16.535\n2               10.310              18.890\n3               11.525              19.390\n4               13.025              24.340",
      "text/html": "<div>\n<style scoped>\n    .dataframe tbody tr th:only-of-type {\n        vertical-align: middle;\n    }\n\n    .dataframe tbody tr th {\n        vertical-align: top;\n    }\n\n    .dataframe thead th {\n        text-align: right;\n    }\n</style>\n<table border=\"1\" class=\"dataframe\">\n  <thead>\n    <tr style=\"text-align: right;\">\n      <th></th>\n      <th>4-year_resale_value</th>\n      <th>Price_in_thousands</th>\n    </tr>\n  </thead>\n  <tbody>\n    <tr>\n      <th>0</th>\n      <td>9.250</td>\n      <td>13.260</td>\n    </tr>\n    <tr>\n      <th>1</th>\n      <td>11.225</td>\n      <td>16.535</td>\n    </tr>\n    <tr>\n      <th>2</th>\n      <td>10.310</td>\n      <td>18.890</td>\n    </tr>\n    <tr>\n      <th>3</th>\n      <td>11.525</td>\n      <td>19.390</td>\n    </tr>\n    <tr>\n      <th>4</th>\n      <td>13.025</td>\n      <td>24.340</td>\n    </tr>\n  </tbody>\n</table>\n</div>"
     },
     "metadata": {},
     "output_type": "execute_result",
     "execution_count": 58
    }
   ],
   "source": [
    "t['4-year_resale_value'] = np.where(t['4-year_resale_value'] == '.', 'NaN', t['4-year_resale_value'])\n",
    "t['Price_in_thousands'] = np.where(t['Price_in_thousands'] == '.', 'NaN', t['Price_in_thousands'])\n",
    "t['4-year_resale_value']=t['4-year_resale_value'].astype(str).astype(float)\n",
    "t['Price_in_thousands']=t['Price_in_thousands'].astype(str).astype(float)\n",
    "t.dtypes\n",
    "t.dropna().head(5)"
   ],
   "metadata": {
    "collapsed": false,
    "pycharm": {
     "name": "#%%\n",
     "is_executing": false
    }
   }
  },
  {
   "cell_type": "code",
   "execution_count": 59,
   "outputs": [
    {
     "data": {
      "text/plain": "<Figure size 432x288 with 1 Axes>",
      "image/png": "[encoded data removed]"
     },
     "metadata": {
      "needs_background": "light"
     },
     "output_type": "display_data"
    }
   ],
   "source": [
    "t.plot.scatter(x='4-year_resale_value', y='Price_in_thousands');"
   ],
   "metadata": {
    "collapsed": false,
    "pycharm": {
     "name": "#%%\n",
     "is_executing": false
    }
   }
  },
  {
   "cell_type": "markdown",
   "source": [
    "- 1 The resalue values range from 5.16 to 58.6, that is why our data is bounded within that range\n",
    "- 2 Theyre are 70 cars, and the results consit of specific car in the dataset. Each point gives us information about a particular car's sale.\n",
    "- We can see that there is an obvious uptrend. This is because lower resale values usually have lower price and hight resale values' price is high."
   ],
   "metadata": {
    "collapsed": false
   }
  },
  {
   "cell_type": "markdown",
   "source": [
    "# Next : Statistics Part 2✌🏾😉\n"
   ],
   "metadata": {
    "collapsed": false,
    "pycharm": {
     "name": "#%% md\n"
    }
   }
  }
 ],
 "metadata": {
  "kernelspec": {
   "display_name": "PyCharm (training)",
   "language": "python",
   "name": "pycharm-a450661"
  },
  "language_info": {
   "codemirror_mode": {
    "name": "ipython",
    "version": 3
   },
   "file_extension": ".py",
   "mimetype": "text/x-python",
   "name": "python",
   "nbconvert_exporter": "python",
   "pygments_lexer": "ipython3",
   "version": "3.6.10"
  },
  "pycharm": {
   "stem_cell": {
    "cell_type": "raw",
    "source": [],
    "metadata": {
     "collapsed": false
    }
   }
  }
 },
 "nbformat": 4,
 "nbformat_minor": 1
}